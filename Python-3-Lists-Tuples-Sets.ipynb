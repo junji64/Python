{
 "cells": [
  {
   "cell_type": "markdown",
   "metadata": {},
   "source": [
    "## Lists"
   ]
  },
  {
   "cell_type": "code",
   "execution_count": 6,
   "metadata": {
    "collapsed": false
   },
   "outputs": [
    {
     "name": "stdout",
     "output_type": "stream",
     "text": [
      "['History', 'Math', 'Physics', 'CompSci']\n",
      "4\n",
      "History\n",
      "CompSci\n",
      "CompSci\n",
      "['History', 'Math']\n",
      "['Physics', 'CompSci']\n"
     ]
    }
   ],
   "source": [
    "courses = ['History', 'Math', 'Physics', \"CompSci\"]\n",
    "print(courses)\n",
    "print(len(courses))\n",
    "print(courses[0])\n",
    "print(courses[3])\n",
    "print(courses[-1])     # smarter way to access the last element\n",
    "print(courses[0:2])    # including the first, but not including the last\n",
    "print(courses[2:])"
   ]
  },
  {
   "cell_type": "code",
   "execution_count": 7,
   "metadata": {
    "collapsed": false
   },
   "outputs": [
    {
     "name": "stdout",
     "output_type": "stream",
     "text": [
      "['History', 'Math', 'Physics', 'CompSci', 'Art']\n"
     ]
    }
   ],
   "source": [
    "courses.append('Art')\n",
    "print(courses)"
   ]
  },
  {
   "cell_type": "code",
   "execution_count": 8,
   "metadata": {
    "collapsed": false
   },
   "outputs": [
    {
     "name": "stdout",
     "output_type": "stream",
     "text": [
      "['Music', 'History', 'Math', 'Physics', 'CompSci', 'Art']\n"
     ]
    }
   ],
   "source": [
    "courses.insert(0, 'Music')\n",
    "print(courses)"
   ]
  },
  {
   "cell_type": "code",
   "execution_count": 13,
   "metadata": {
    "collapsed": false
   },
   "outputs": [
    {
     "name": "stdout",
     "output_type": "stream",
     "text": [
      "['History', 'Math', 'Physics', 'CompSci', 'Art', 'Education']\n"
     ]
    }
   ],
   "source": [
    "courses_1 = ['History', 'Math', 'Physics', 'CompSci']\n",
    "courses_2 = ['Art', 'Education']\n",
    "courses_1.extend(courses_2)\n",
    "print(courses_1)"
   ]
  },
  {
   "cell_type": "code",
   "execution_count": 21,
   "metadata": {
    "collapsed": false
   },
   "outputs": [
    {
     "name": "stdout",
     "output_type": "stream",
     "text": [
      "['History', 'Physics', 'CompSci']\n"
     ]
    }
   ],
   "source": [
    "# remove an element\n",
    "courses = ['History', 'Math', 'Physics', \"CompSci\"]\n",
    "courses.remove('Math')\n",
    "print(courses)"
   ]
  },
  {
   "cell_type": "code",
   "execution_count": 22,
   "metadata": {
    "collapsed": false
   },
   "outputs": [
    {
     "name": "stdout",
     "output_type": "stream",
     "text": [
      "CompSci\n",
      "['History', 'Physics']\n"
     ]
    }
   ],
   "source": [
    "# remove the last element\n",
    "popped = courses.pop()\n",
    "print(popped)\n",
    "print(courses)"
   ]
  },
  {
   "cell_type": "code",
   "execution_count": 23,
   "metadata": {
    "collapsed": false
   },
   "outputs": [
    {
     "name": "stdout",
     "output_type": "stream",
     "text": [
      "['CompSci', 'Physics', 'Math', 'History']\n"
     ]
    }
   ],
   "source": [
    "courses = ['History', 'Math', 'Physics', \"CompSci\"]\n",
    "courses.reverse()\n",
    "print(courses)"
   ]
  },
  {
   "cell_type": "code",
   "execution_count": null,
   "metadata": {
    "collapsed": true
   },
   "outputs": [],
   "source": []
  }
 ],
 "metadata": {
  "kernelspec": {
   "display_name": "Python 3",
   "language": "python",
   "name": "python3"
  },
  "language_info": {
   "codemirror_mode": {
    "name": "ipython",
    "version": 3
   },
   "file_extension": ".py",
   "mimetype": "text/x-python",
   "name": "python",
   "nbconvert_exporter": "python",
   "pygments_lexer": "ipython3",
   "version": "3.6.0"
  }
 },
 "nbformat": 4,
 "nbformat_minor": 2
}
