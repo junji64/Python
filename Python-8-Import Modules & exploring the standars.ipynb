{
 "cells": [
  {
   "cell_type": "markdown",
   "metadata": {},
   "source": [
    "## Import Modules"
   ]
  },
  {
   "cell_type": "markdown",
   "metadata": {},
   "source": [
    "The following code is save as \"my_module.py\" in /c/Users/Jun/Python/"
   ]
  },
  {
   "cell_type": "code",
   "execution_count": 11,
   "metadata": {
    "collapsed": false
   },
   "outputs": [
    {
     "name": "stdout",
     "output_type": "stream",
     "text": [
      "Imported my_module...\n"
     ]
    }
   ],
   "source": [
    "print('Imported my_module...')\n",
    "\n",
    "test = 'Test String'\n",
    "\n",
    "def find_index(to_search, target):\n",
    "    '''Find th index of a value in a sequence'''\n",
    "    for i, value in enumerate(to_search):\n",
    "        if value == target:\n",
    "            return i\n",
    "    \n",
    "    return -1"
   ]
  },
  {
   "cell_type": "markdown",
   "metadata": {},
   "source": [
    "the following code is saved as \"courses.py\" in /c/Users/Jun/Python/"
   ]
  },
  {
   "cell_type": "code",
   "execution_count": 12,
   "metadata": {
    "collapsed": false
   },
   "outputs": [
    {
     "name": "stdout",
     "output_type": "stream",
     "text": [
      "1\n"
     ]
    }
   ],
   "source": [
    "import my_module\n",
    "courses = ['History', 'Math', 'Physics', 'CompSci']\n",
    "\n",
    "index = my_module.find_index(courses, 'Math')\n",
    "print(index)"
   ]
  },
  {
   "cell_type": "code",
   "execution_count": 13,
   "metadata": {
    "collapsed": false
   },
   "outputs": [
    {
     "name": "stdout",
     "output_type": "stream",
     "text": [
      "1\n"
     ]
    }
   ],
   "source": [
    "import my_module as mm\n",
    "courses = ['History', 'Math', 'Physics', 'CompSci']\n",
    "\n",
    "index = mm.find_index(courses, 'Math')\n",
    "print(index)"
   ]
  },
  {
   "cell_type": "code",
   "execution_count": 14,
   "metadata": {
    "collapsed": false
   },
   "outputs": [
    {
     "name": "stdout",
     "output_type": "stream",
     "text": [
      "1\n"
     ]
    }
   ],
   "source": [
    "from my_module import find_index\n",
    "courses = ['History', 'Math', 'Physics', 'CompSci']\n",
    "\n",
    "index = find_index(courses, 'Math')\n",
    "print(index)"
   ]
  },
  {
   "cell_type": "code",
   "execution_count": 15,
   "metadata": {
    "collapsed": false
   },
   "outputs": [
    {
     "name": "stdout",
     "output_type": "stream",
     "text": [
      "1\n",
      "Test String\n"
     ]
    }
   ],
   "source": [
    "from my_module import find_index as fi, test\n",
    "courses = ['History', 'Math', 'Physics', 'CompSci']\n",
    "\n",
    "index = fi(courses, 'Math')\n",
    "print(index)\n",
    "print(test)"
   ]
  },
  {
   "cell_type": "code",
   "execution_count": 16,
   "metadata": {
    "collapsed": false
   },
   "outputs": [
    {
     "name": "stdout",
     "output_type": "stream",
     "text": [
      "1\n",
      "Test String\n"
     ]
    }
   ],
   "source": [
    "from my_module import *\n",
    "courses = ['History', 'Math', 'Physics', 'CompSci']\n",
    "\n",
    "index = find_index(courses, 'Math')\n",
    "print(index)\n",
    "print(test)"
   ]
  },
  {
   "cell_type": "code",
   "execution_count": 17,
   "metadata": {
    "collapsed": false
   },
   "outputs": [
    {
     "name": "stdout",
     "output_type": "stream",
     "text": [
      "['', 'D:\\\\Users\\\\Jun\\\\Anaconda3\\\\python36.zip', 'D:\\\\Users\\\\Jun\\\\Anaconda3\\\\DLLs', 'D:\\\\Users\\\\Jun\\\\Anaconda3\\\\lib', 'D:\\\\Users\\\\Jun\\\\Anaconda3', 'D:\\\\Users\\\\Jun\\\\Anaconda3\\\\lib\\\\site-packages', 'D:\\\\Users\\\\Jun\\\\Anaconda3\\\\lib\\\\site-packages\\\\Sphinx-1.5.1-py3.6.egg', 'D:\\\\Users\\\\Jun\\\\Anaconda3\\\\lib\\\\site-packages\\\\win32', 'D:\\\\Users\\\\Jun\\\\Anaconda3\\\\lib\\\\site-packages\\\\win32\\\\lib', 'D:\\\\Users\\\\Jun\\\\Anaconda3\\\\lib\\\\site-packages\\\\Pythonwin', 'D:\\\\Users\\\\Jun\\\\Anaconda3\\\\lib\\\\site-packages\\\\setuptools-27.2.0-py3.6.egg', 'D:\\\\Users\\\\Jun\\\\Anaconda3\\\\lib\\\\site-packages\\\\IPython\\\\extensions', 'C:\\\\Users\\\\Jun\\\\.ipython', '/Users/jun/Desktop/My-Modules', '/Users/jun/Desktop/My-Modules']\n"
     ]
    }
   ],
   "source": [
    "from my_module import find_index, test\n",
    "import sys\n",
    "courses = ['History', 'Math', 'Physics', 'CompSci']\n",
    "\n",
    "index = fi(courses, 'Math')\n",
    "#print(index)\n",
    "#print(test)\n",
    "print(sys.path)"
   ]
  },
  {
   "cell_type": "code",
   "execution_count": null,
   "metadata": {
    "collapsed": true
   },
   "outputs": [],
   "source": []
  }
 ],
 "metadata": {
  "kernelspec": {
   "display_name": "Python 3",
   "language": "python",
   "name": "python3"
  },
  "language_info": {
   "codemirror_mode": {
    "name": "ipython",
    "version": 3
   },
   "file_extension": ".py",
   "mimetype": "text/x-python",
   "name": "python",
   "nbconvert_exporter": "python",
   "pygments_lexer": "ipython3",
   "version": "3.6.0"
  }
 },
 "nbformat": 4,
 "nbformat_minor": 2
}
