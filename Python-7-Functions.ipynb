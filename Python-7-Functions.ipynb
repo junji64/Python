{
 "cells": [
  {
   "cell_type": "markdown",
   "metadata": {},
   "source": [
    "## Functions"
   ]
  },
  {
   "cell_type": "code",
   "execution_count": 4,
   "metadata": {
    "collapsed": false
   },
   "outputs": [
    {
     "name": "stdout",
     "output_type": "stream",
     "text": [
      "<function hello_func at 0x000001734CD87E18>\n",
      "None\n"
     ]
    }
   ],
   "source": [
    "def hello_func():\n",
    "    pass          # make an empty function (i.e. do nothing)\n",
    "\n",
    "print(hello_func)\n",
    "print(hello_func())"
   ]
  },
  {
   "cell_type": "code",
   "execution_count": 7,
   "metadata": {
    "collapsed": false
   },
   "outputs": [
    {
     "name": "stdout",
     "output_type": "stream",
     "text": [
      "Hello Functions!\n",
      "Hello Functions!\n"
     ]
    }
   ],
   "source": [
    "def hello_func():\n",
    "    print('Hello Functions!')\n",
    "    \n",
    "hello_func()\n",
    "hello_func()"
   ]
  },
  {
   "cell_type": "code",
   "execution_count": 10,
   "metadata": {
    "collapsed": false
   },
   "outputs": [
    {
     "name": "stdout",
     "output_type": "stream",
     "text": [
      "Hello Function.\n"
     ]
    }
   ],
   "source": [
    "def hello_func():\n",
    "    return 'Hello Function.'\n",
    "\n",
    "print(hello_func())"
   ]
  },
  {
   "cell_type": "code",
   "execution_count": 12,
   "metadata": {
    "collapsed": false
   },
   "outputs": [
    {
     "name": "stdout",
     "output_type": "stream",
     "text": [
      "HELLO FUNCTION.\n"
     ]
    }
   ],
   "source": [
    "print(hello_func().upper())"
   ]
  },
  {
   "cell_type": "code",
   "execution_count": 14,
   "metadata": {
    "collapsed": false
   },
   "outputs": [
    {
     "name": "stdout",
     "output_type": "stream",
     "text": [
      "Hi Function.\n"
     ]
    },
    {
     "ename": "TypeError",
     "evalue": "hello_func() missing 1 required positional argument: 'greeting'",
     "output_type": "error",
     "traceback": [
      "\u001b[0;31m---------------------------------------------------------------------------\u001b[0m",
      "\u001b[0;31mTypeError\u001b[0m                                 Traceback (most recent call last)",
      "\u001b[0;32m<ipython-input-14-ed5ab5c86ee0>\u001b[0m in \u001b[0;36m<module>\u001b[0;34m()\u001b[0m\n\u001b[1;32m      3\u001b[0m \u001b[1;33m\u001b[0m\u001b[0m\n\u001b[1;32m      4\u001b[0m \u001b[0mprint\u001b[0m\u001b[1;33m(\u001b[0m\u001b[0mhello_func\u001b[0m\u001b[1;33m(\u001b[0m\u001b[1;34m'Hi'\u001b[0m\u001b[1;33m)\u001b[0m\u001b[1;33m)\u001b[0m\u001b[1;33m\u001b[0m\u001b[0m\n\u001b[0;32m----> 5\u001b[0;31m \u001b[0mprint\u001b[0m\u001b[1;33m(\u001b[0m\u001b[0mhello_func\u001b[0m\u001b[1;33m(\u001b[0m\u001b[1;33m)\u001b[0m\u001b[1;33m)\u001b[0m\u001b[1;33m\u001b[0m\u001b[0m\n\u001b[0m",
      "\u001b[0;31mTypeError\u001b[0m: hello_func() missing 1 required positional argument: 'greeting'"
     ]
    }
   ],
   "source": [
    "def hello_func(greeting):\n",
    "    return '{} Function.'.format(greeting)\n",
    "\n",
    "print(hello_func('Hi'))\n",
    "print(hello_func())"
   ]
  },
  {
   "cell_type": "code",
   "execution_count": 15,
   "metadata": {
    "collapsed": false
   },
   "outputs": [
    {
     "name": "stdout",
     "output_type": "stream",
     "text": [
      "Hi, You\n",
      "Hi, Jun\n"
     ]
    }
   ],
   "source": [
    "def hello_func(greeting, name = 'You'):\n",
    "    return '{}, {}'.format(greeting, name)\n",
    "\n",
    "print(hello_func('Hi'))\n",
    "print(hello_func('Hi', name = 'Jun'))"
   ]
  },
  {
   "cell_type": "code",
   "execution_count": 18,
   "metadata": {
    "collapsed": false
   },
   "outputs": [
    {
     "name": "stdout",
     "output_type": "stream",
     "text": [
      "('Math', 'Art')\n",
      "{'name': 'John', 'age': 22}\n"
     ]
    }
   ],
   "source": [
    "def student_info(*args, **kwargs):\n",
    "    print(args)\n",
    "    print(kwargs)\n",
    "    \n",
    "student_info('Math', 'Art', name='John', age=22)"
   ]
  },
  {
   "cell_type": "code",
   "execution_count": 19,
   "metadata": {
    "collapsed": false
   },
   "outputs": [
    {
     "name": "stdout",
     "output_type": "stream",
     "text": [
      "(['Math', 'Art'], {'name': 'John', 'age': 22})\n",
      "{}\n"
     ]
    }
   ],
   "source": [
    "courses = ['Math', 'Art']\n",
    "info = {'name': 'John', 'age': 22}\n",
    "student_info(courses, info)"
   ]
  },
  {
   "cell_type": "code",
   "execution_count": 20,
   "metadata": {
    "collapsed": false
   },
   "outputs": [
    {
     "name": "stdout",
     "output_type": "stream",
     "text": [
      "('Math', 'Art')\n",
      "{'name': 'John', 'age': 22}\n"
     ]
    }
   ],
   "source": [
    "student_info(*courses, **info)"
   ]
  },
  {
   "cell_type": "code",
   "execution_count": 27,
   "metadata": {
    "collapsed": false
   },
   "outputs": [
    {
     "name": "stdout",
     "output_type": "stream",
     "text": [
      "False\n",
      "True\n",
      "28\n",
      "29\n"
     ]
    }
   ],
   "source": [
    "# Number of days per month, First value placeholder for indexing purposes.\n",
    "month_days = [0, 31, 28, 31, 30, 31, 30, 31, 31, 30, 31, 30, 31]\n",
    "\n",
    "def is_leap(year):\n",
    "    \"\"\" Return True for leap years, False for non-leapyears.\"\"\"\n",
    "    return year % 4 == 0 and (year % 100 != 0 or year % 400 == 0)\n",
    "\n",
    "def days_in_month(year, month):\n",
    "    \"\"\" Return number of days in that month in that year.\"\"\"\n",
    "    if not 1 <= month <= 12:\n",
    "        return 'Invalid Month'\n",
    "    if month == 2 and is_leap(year):\n",
    "        return 29\n",
    "    return month_days[month]\n",
    "\n",
    "print(is_leap(2017))\n",
    "print(is_leap(2020))\n",
    "print(days_in_month(2017,2))\n",
    "print(days_in_month(2020,2))"
   ]
  },
  {
   "cell_type": "code",
   "execution_count": 26,
   "metadata": {
    "collapsed": false
   },
   "outputs": [
    {
     "name": "stdout",
     "output_type": "stream",
     "text": [
      "28\n"
     ]
    }
   ],
   "source": [
    "print(days_in_month(2017,2))"
   ]
  },
  {
   "cell_type": "code",
   "execution_count": null,
   "metadata": {
    "collapsed": true
   },
   "outputs": [],
   "source": []
  }
 ],
 "metadata": {
  "kernelspec": {
   "display_name": "Python 3",
   "language": "python",
   "name": "python3"
  },
  "language_info": {
   "codemirror_mode": {
    "name": "ipython",
    "version": 3
   },
   "file_extension": ".py",
   "mimetype": "text/x-python",
   "name": "python",
   "nbconvert_exporter": "python",
   "pygments_lexer": "ipython3",
   "version": "3.6.0"
  }
 },
 "nbformat": 4,
 "nbformat_minor": 2
}
